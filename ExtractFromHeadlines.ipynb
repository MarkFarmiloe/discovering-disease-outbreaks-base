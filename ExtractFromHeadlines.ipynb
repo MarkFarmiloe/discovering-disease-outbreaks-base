{
 "cells": [
  {
   "cell_type": "code",
   "execution_count": 58,
   "metadata": {},
   "outputs": [],
   "source": [
    "import numpy as np\n",
    "import pandas as pd\n",
    "import unidecode as u\n",
    "import geonamescache as g\n",
    "import re\n",
    "\n",
    "def cleanCity(c):\n",
    "    uc = u.unidecode(c)\n",
    "    firstBracket = uc.find('(')\n",
    "    if firstBracket > 0:\n",
    "        uc = uc[:firstBracket]\n",
    "    return uc.strip()\n",
    "    \n",
    "gc = g.GeonamesCache()\n",
    "countries = [u.unidecode(c['name']) for c in gc.get_countries().values()]\n",
    "countries.sort(key=lambda c: -len(c))\n",
    "cities = [cleanCity(c['name']) for c in gc.get_cities().values()]\n",
    "cities.sort(key=lambda c: -len(c))\n",
    "\n",
    "regexp1 = re.compile(r\"\\b(\" + \"|\".join(countries) + r\")\\b\")\n",
    "regexp2 = re.compile(r\"\\b(\" + \"|\".join(cities) + r\")\\b\")\n",
    "\n",
    "fdata = open('data/headlines.txt')\n",
    "headlines = [u.unidecode(line[:-1]) for line in fdata]\n",
    "\n",
    "def matchStr(m):\n",
    "    if len(m) == 0:\n",
    "        return np.NaN\n",
    "    elif len(m) == 1:\n",
    "        return m[0]\n",
    "    elif m[0] == 'Can' or m[0] == 'Spring':\n",
    "        return m[1]\n",
    "    else:\n",
    "        return m[0]\n",
    "\n",
    "d_countries = [matchStr(re.findall(regexp1, h)) for h in headlines]\n",
    "d_cities = [matchStr(re.findall(regexp2, h)) for h in headlines]\n",
    "\n",
    "\n",
    "\n",
    "df = pd.DataFrame({'headline': headlines, 'city': d_cities, 'country': d_countries})\n",
    "df.to_pickle('./data.pkl')"
   ]
  },
  {
   "cell_type": "code",
   "execution_count": null,
   "metadata": {},
   "outputs": [],
   "source": []
  },
  {
   "cell_type": "code",
   "execution_count": null,
   "metadata": {},
   "outputs": [],
   "source": []
  },
  {
   "cell_type": "code",
   "execution_count": null,
   "metadata": {},
   "outputs": [],
   "source": []
  },
  {
   "cell_type": "code",
   "execution_count": null,
   "metadata": {},
   "outputs": [],
   "source": []
  }
 ],
 "metadata": {
  "kernelspec": {
   "display_name": "Python 3",
   "language": "python",
   "name": "python3"
  },
  "language_info": {
   "codemirror_mode": {
    "name": "ipython",
    "version": 3
   },
   "file_extension": ".py",
   "mimetype": "text/x-python",
   "name": "python",
   "nbconvert_exporter": "python",
   "pygments_lexer": "ipython3",
   "version": "3.7.6"
  }
 },
 "nbformat": 4,
 "nbformat_minor": 4
}
