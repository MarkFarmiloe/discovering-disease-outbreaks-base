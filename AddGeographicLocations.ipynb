{
 "cells": [
  {
   "cell_type": "code",
   "execution_count": 3,
   "metadata": {},
   "outputs": [],
   "source": [
    "import numpy as np\n",
    "import pandas as pd\n",
    "import unidecode as u\n",
    "import geonamescache as g\n",
    "\n",
    "df = pd.read_pickle(\"./data.pkl\")\n",
    "df = df.dropna(thresh=2).sort_values(by=['city'])\n",
    "\n",
    "def addCleanName(city):\n",
    "    uc = u.unidecode(city['name'])\n",
    "    firstBracket = uc.find('(')\n",
    "    if firstBracket > 0:\n",
    "        uc = uc[:firstBracket]\n",
    "    city['cleanName'] = uc.strip()\n",
    "    return city\n",
    "\n",
    "gc = g.GeonamesCache()\n",
    "countries = gc.get_countries()\n",
    "cities = {k: addCleanName(c) for k, c in gc.get_cities().items()}\n",
    "\n",
    "groupedCities = {}\n",
    "for k, v in cities.items():\n",
    "    cn = v['cleanName']\n",
    "    if cn in groupedCities:\n",
    "        cg = groupedCities[cn]\n",
    "    else:\n",
    "        cg = []\n",
    "    groupedCities[cn] = cg + [v]\n",
    "\n",
    "def largestCityByName(cleanCity, country):\n",
    "    if type(country) == type({}):\n",
    "        cities = [c for c in groupedCities[cleanCity] if c['countrycode'] == country['iso']]\n",
    "    else:\n",
    "        cities = groupedCities[cleanCity]\n",
    "    city = cities[0]\n",
    "    for c in cities[1:]:\n",
    "        if c['population'] > city['population']:\n",
    "            city = c\n",
    "    return city\n",
    "\n",
    "matchedCities = [largestCityByName(d['city'], countries.get(d['country'])) for d in df[['city','country']].to_dict('records')]\n",
    "df['latitude'] = [c['latitude'] for c in matchedCities]\n",
    "df['longitude'] = [c['longitude'] for c in matchedCities]\n",
    "df['countrycode'] = [c['countrycode'] for c in matchedCities]\n",
    "\n",
    "df=df.drop('country', axis=1)\n",
    "\n",
    "df.to_pickle('./data2.pkl')\n"
   ]
  },
  {
   "cell_type": "code",
   "execution_count": null,
   "metadata": {},
   "outputs": [],
   "source": []
  }
 ],
 "metadata": {
  "kernelspec": {
   "display_name": "Python 3",
   "language": "python",
   "name": "python3"
  },
  "language_info": {
   "codemirror_mode": {
    "name": "ipython",
    "version": 3
   },
   "file_extension": ".py",
   "mimetype": "text/x-python",
   "name": "python",
   "nbconvert_exporter": "python",
   "pygments_lexer": "ipython3",
   "version": "3.7.7"
  }
 },
 "nbformat": 4,
 "nbformat_minor": 4
}
